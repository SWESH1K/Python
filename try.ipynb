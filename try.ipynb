{
 "cells": [
  {
   "cell_type": "code",
   "execution_count": 9,
   "metadata": {},
   "outputs": [
    {
     "name": "stdout",
     "output_type": "stream",
     "text": [
      "dlrow\n"
     ]
    }
   ],
   "source": [
    "# remove first n characters from string\n",
    "\n",
    "def removeString(string,n):\n",
    "    return string[:n:-1]\n",
    "\n",
    "string = input(\"Please enter the string: \")\n",
    "n = int(input(\"Please enter the n value: \"))\n",
    "string = removeString(string,n)\n",
    "print(string)"
   ]
  },
  {
   "cell_type": "code",
   "execution_count": 6,
   "metadata": {},
   "outputs": [
    {
     "name": "stdout",
     "output_type": "stream",
     "text": [
      "[2, 3, 5, 7, 11, 13, 17, 19, 23, 29, 31, 37, 41, 43, 47, 53, 59, 61, 67, 71, 73, 79, 83, 89, 97]\n"
     ]
    }
   ],
   "source": [
    "n = int(input(\"Please enter the n value: \"))\n",
    "arr = [x for x in range(2,n+1)]\n",
    "i = 2\n",
    "while(i**2 <= n):\n",
    "    k=2\n",
    "    while(i*k <= n):\n",
    "        if i*k in arr:\n",
    "            arr.remove(i*k)\n",
    "        k+=1\n",
    "    i+=1\n",
    "\n",
    "print(arr)"
   ]
  },
  {
   "cell_type": "code",
   "execution_count": null,
   "metadata": {},
   "outputs": [],
   "source": [
    "# Check if first and last digit are same or not\n",
    "\n",
    "def check(arr):\n",
    "    if(arr[0]==arr[-1]):\n",
    "        return True\n",
    "    return False\n",
    "\n",
    "arr = [1, 2, 3, 4, 1]\n",
    "\n",
    "print(check(arr))"
   ]
  }
 ],
 "metadata": {
  "kernelspec": {
   "display_name": "Python 3",
   "language": "python",
   "name": "python3"
  },
  "language_info": {
   "codemirror_mode": {
    "name": "ipython",
    "version": 3
   },
   "file_extension": ".py",
   "mimetype": "text/x-python",
   "name": "python",
   "nbconvert_exporter": "python",
   "pygments_lexer": "ipython3",
   "version": "3.11.8"
  }
 },
 "nbformat": 4,
 "nbformat_minor": 2
}
