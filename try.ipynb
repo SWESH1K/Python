{
 "cells": [
  {
   "cell_type": "code",
   "execution_count": null,
   "metadata": {},
   "outputs": [],
   "source": [
    "# remove first n characters from string\n",
    "\n",
    "def removeString(string,n):\n",
    "    return string[:n:-1]\n",
    "\n",
    "string = input(\"Please enter the string: \")\n",
    "n = int(input(\"Please enter the n value: \"))\n",
    "string = removeString(string,n)\n",
    "print(string)"
   ]
  },
  {
   "cell_type": "code",
   "execution_count": null,
   "metadata": {},
   "outputs": [],
   "source": [
    "n = int(input(\"Please enter the n value: \"))\n",
    "arr = [x for x in range(2,n+1)]\n",
    "i = 2\n",
    "while(i**2 <= n):\n",
    "    k=2\n",
    "    while(i*k <= n):\n",
    "        if i*k in arr:\n",
    "            arr.remove(i*k)\n",
    "        k+=1\n",
    "    i+=1\n",
    "\n",
    "print(arr)"
   ]
  },
  {
   "cell_type": "code",
   "execution_count": null,
   "metadata": {},
   "outputs": [],
   "source": [
    "# Check if first and last digit are same or not\n",
    "\n",
    "def check(arr):\n",
    "    if(arr[0]==arr[-1]):\n",
    "        return True\n",
    "    return False\n",
    "\n",
    "arr = [1, 2, 3, 4, 1]\n",
    "\n",
    "print(check(arr))"
   ]
  },
  {
   "cell_type": "code",
   "execution_count": null,
   "metadata": {},
   "outputs": [],
   "source": [
    "print(\"Hello\"*3)"
   ]
  },
  {
   "cell_type": "code",
   "execution_count": null,
   "metadata": {},
   "outputs": [],
   "source": [
    "list = [10, 20, 33, 46, 55]\n",
    "\n",
    "newList = [(x,x) for x in list if x%5==0]\n",
    "\n",
    "newList"
   ]
  },
  {
   "cell_type": "code",
   "execution_count": null,
   "metadata": {},
   "outputs": [],
   "source": [
    "num = 123 + 4j\n",
    "\n",
    "print(num.real)\n",
    "print(num.imag)"
   ]
  },
  {
   "cell_type": "code",
   "execution_count": null,
   "metadata": {},
   "outputs": [],
   "source": [
    "string = \" Hello World\"\n",
    "# print(string.strip())\n",
    "print(type(string))"
   ]
  },
  {
   "cell_type": "code",
   "execution_count": 5,
   "metadata": {},
   "outputs": [
    {
     "name": "stdout",
     "output_type": "stream",
     "text": [
      "[1, 1, 1]\n"
     ]
    }
   ],
   "source": [
    "def foo(bar=[]):\n",
    "    bar.append(1)\n",
    "    return bar\n",
    "\n",
    "# print(foo())\n",
    "# print(foo())\n",
    "# print(foo())\n",
    "print(foo(foo(foo())))\n"
   ]
  },
  {
   "cell_type": "code",
   "execution_count": 7,
   "metadata": {},
   "outputs": [
    {
     "name": "stdout",
     "output_type": "stream",
     "text": [
      "[1, 2, 3]\n"
     ]
    }
   ],
   "source": [
    "a = [1, 2, 3]\n",
    "b = a\n",
    "a = [4, 5, 6]\n",
    "print(b)"
   ]
  },
  {
   "cell_type": "code",
   "execution_count": 9,
   "metadata": {},
   "outputs": [
    {
     "name": "stdout",
     "output_type": "stream",
     "text": [
      "1\n"
     ]
    }
   ],
   "source": [
    "# Q1, Write a Python expression to count the number of vowels in a given string.\n",
    "string = input()\n",
    "cnt = 0\n",
    "cnt = sum(1 for x in string if x in \"aeiou\")\n",
    "print(cnt)"
   ]
  },
  {
   "cell_type": "code",
   "execution_count": 10,
   "metadata": {},
   "outputs": [
    {
     "data": {
      "text/plain": [
       "[4, 16, 36, 64, 100]"
      ]
     },
     "execution_count": 10,
     "metadata": {},
     "output_type": "execute_result"
    }
   ],
   "source": [
    "# Q2, Create a list containing the squares of all even numbers from 1 to 10.\n",
    "\n",
    "list = [x*x for x in range(1,11) if x%2==0]\n",
    "list"
   ]
  },
  {
   "cell_type": "code",
   "execution_count": 35,
   "metadata": {},
   "outputs": [
    {
     "name": "stdout",
     "output_type": "stream",
     "text": [
      "Not Prime\n"
     ]
    }
   ],
   "source": [
    "# Write a one-liner to check if a given number is prime.\n",
    "\n",
    "num = int(input())\n",
    "ans = all(num%i!=0 for i in range(2,num))\n",
    "\n",
    "if ans and num!=1: print(\"Prime\")\n",
    "else: print(\"Not Prime\")"
   ]
  },
  {
   "cell_type": "code",
   "execution_count": 36,
   "metadata": {},
   "outputs": [
    {
     "name": "stdout",
     "output_type": "stream",
     "text": [
      "-9\n"
     ]
    }
   ],
   "source": [
    "# Given a list of integers, write a single line of Python code to find the sum of all the negative numbers in the list.\n",
    "\n",
    "list = [-2, 1, -6, -1, 3, 4]\n",
    "\n",
    "ans = sum(x for x in list if x<0)\n",
    "\n",
    "print(ans)"
   ]
  },
  {
   "cell_type": "code",
   "execution_count": 38,
   "metadata": {},
   "outputs": [
    {
     "name": "stdout",
     "output_type": "stream",
     "text": [
      "kihsewS\n"
     ]
    }
   ],
   "source": [
    "# Write a one-liner to reverse a given string.\n",
    "\n",
    "string = input()\n",
    "newString = string[::-1]\n",
    "print(newString)"
   ]
  },
  {
   "cell_type": "code",
   "execution_count": 5,
   "metadata": {},
   "outputs": [
    {
     "data": {
      "text/plain": [
       "[0, 1, 1, 2, 3]"
      ]
     },
     "execution_count": 5,
     "metadata": {},
     "output_type": "execute_result"
    }
   ],
   "source": [
    "# Create a list of the first 10 Fibonacci numbers using a list comprehension.\n",
    "\n",
    "list = [0, 1]\n",
    "[list.append(list[i-1]+list[i-2]) for i in range(2, 5)]\n",
    "list"
   ]
  },
  {
   "cell_type": "code",
   "execution_count": 40,
   "metadata": {},
   "outputs": [
    {
     "name": "stdout",
     "output_type": "stream",
     "text": [
      "0 1 1 2 3 5 8 13 21 34 "
     ]
    }
   ],
   "source": [
    "x=int(input())\n",
    "a=0;b=1\n",
    "for _ in range(x):\n",
    "    print(a,end=\" \")\n",
    "    b,a = a+b,b\n"
   ]
  },
  {
   "cell_type": "code",
   "execution_count": 1,
   "metadata": {},
   "outputs": [
    {
     "name": "stdout",
     "output_type": "stream",
     "text": [
      "10-->20-->30-->40-->50-->\n",
      "20-->30-->40-->50-->\n"
     ]
    }
   ],
   "source": [
    "# Write a Singly Liked List having functions like insert at last, delete at first, and print all elements.\n",
    "class Node:\n",
    "    def __init__(self,data):\n",
    "        self.data = data\n",
    "        self.next = None\n",
    "\n",
    "class LinkedList:\n",
    "    def __init__(self):\n",
    "        self.head = None\n",
    "\n",
    "    def insert_at_last(self,data):\n",
    "        if self.head is None:\n",
    "            self.head = Node(data)\n",
    "            return\n",
    "        itr = self.head\n",
    "        while itr.next:\n",
    "            itr = itr.next\n",
    "        itr.next = Node(data)\n",
    "\n",
    "    def print(self):\n",
    "        if self.head is None:\n",
    "            print(\"Linked list is empty\")\n",
    "            return\n",
    "        itr = self.head\n",
    "        llstr = ''\n",
    "        while itr:\n",
    "            llstr += str(itr.data) + '-->'\n",
    "            itr = itr.next\n",
    "        print(llstr)\n",
    "\n",
    "    def delete_at_first(self):\n",
    "        if self.head is None:\n",
    "            print(\"Linked list is empty\")\n",
    "            return\n",
    "        self.head = self.head.next\n",
    "\n",
    "\n",
    "# Test the code\n",
    "ll = LinkedList()\n",
    "ll.insert_at_last(10)\n",
    "ll.insert_at_last(20)\n",
    "ll.insert_at_last(30)\n",
    "ll.insert_at_last(40)\n",
    "ll.insert_at_last(50)\n",
    "ll.print()\n",
    "ll.delete_at_first()\n",
    "ll.print()"
   ]
  },
  {
   "cell_type": "code",
   "execution_count": 4,
   "metadata": {},
   "outputs": [
    {
     "name": "stdout",
     "output_type": "stream",
     "text": [
      "* * * * * * * * * * \n"
     ]
    }
   ],
   "source": []
  },
  {
   "cell_type": "code",
   "execution_count": 11,
   "metadata": {},
   "outputs": [
    {
     "data": {
      "text/plain": [
       "['S', 'w', 'e', 's', 'h', 'i', 'k']"
      ]
     },
     "execution_count": 11,
     "metadata": {},
     "output_type": "execute_result"
    }
   ],
   "source": []
  }
 ],
 "metadata": {
  "kernelspec": {
   "display_name": "Python 3",
   "language": "python",
   "name": "python3"
  },
  "language_info": {
   "codemirror_mode": {
    "name": "ipython",
    "version": 3
   },
   "file_extension": ".py",
   "mimetype": "text/x-python",
   "name": "python",
   "nbconvert_exporter": "python",
   "pygments_lexer": "ipython3",
   "version": "3.11.8"
  }
 },
 "nbformat": 4,
 "nbformat_minor": 2
}
